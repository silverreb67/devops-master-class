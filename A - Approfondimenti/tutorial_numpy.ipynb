{
  "cells": [
    {
      "cell_type": "markdown",
      "metadata": {
        "id": "view-in-github",
        "colab_type": "text"
      },
      "source": [
        "<a href=\"https://colab.research.google.com/github/silverreb67/devops-master-class/blob/master/A%20-%20Approfondimenti/tutorial_numpy.ipynb\" target=\"_parent\"><img src=\"https://colab.research.google.com/assets/colab-badge.svg\" alt=\"Open In Colab\"/></a>"
      ]
    },
    {
      "cell_type": "markdown",
      "metadata": {
        "id": "Ucuu1EkGg0qC"
      },
      "source": [
        "# Numpy Tutorial\n",
        "Numpy è una libreria Python sviluppata appositamente per il calcolo scientifico, permette di operare su vettori e matrici anche di grandi dimensioni, utilizzando funzioni scritte in linguaggio C e quindi molto veloci.<br>"
      ]
    },
    {
      "cell_type": "markdown",
      "metadata": {
        "id": "9ucFKQ_Tg0qE"
      },
      "source": [
        "### Installazione\n",
        "La libreria Numpy è compresa in Anaconda.<br>\n",
        "Se non utilizzi anaconda puoi semplicemente installare Numpy con pip\n",
        "<br><br>\n",
        "<span style=\"font-family: Monaco\">pip install numpy</span>\n",
        "<br><br>\n",
        "Come ogni libreria Python, per utilizzare Numpy è necessario prima importarla"
      ]
    },
    {
      "cell_type": "code",
      "execution_count": null,
      "metadata": {
        "id": "cHLips3eg0qF"
      },
      "outputs": [],
      "source": [
        "import numpy as np"
      ]
    },
    {
      "cell_type": "markdown",
      "metadata": {
        "id": "XqWQWVazg0qI"
      },
      "source": [
        "## Vettori\n",
        "Il calcolo tra vettori e matrici ricopre un ruolo fondamentale non solo nel Machine Learning, ma in ogni branca dell'Intelligenza Artificiale e dell'Informatica in generale.\n",
        "Un vettore è un elemento che contiene un insieme ordinato di numeri disposti su una sola riga (vettore riga) o su una sola colonna.\n",
        "\n",
        "$$ \\textbf{v} = \\begin{bmatrix} 5 & 3 & 9 & 1 & 6 \\end{bmatrix} $$\n",
        "\n",
        "$$ \\textbf{v} = \\begin{bmatrix}\n",
        "    5 \\\\\n",
        "    3 \\\\\n",
        "    9 \\\\\n",
        "    1 \\\\\n",
        "    6\n",
        "\\end{bmatrix}\n",
        "$$\n",
        "Per creare un vettore numpy è sufficente passare una lista di numeri alla funzione <span style=\"font-family: Monaco\">array</span>\n"
      ]
    },
    {
      "cell_type": "code",
      "execution_count": null,
      "metadata": {
        "id": "IKNUr_rYg0qJ",
        "outputId": "3f3fcbee-84b2-47d6-eb00-8e7882da24f0"
      },
      "outputs": [
        {
          "data": {
            "text/plain": [
              "list"
            ]
          },
          "execution_count": 2,
          "metadata": {},
          "output_type": "execute_result"
        }
      ],
      "source": [
        "v = [10, 15, 20, 25, 30] # lista python\n",
        "type(v)"
      ]
    },
    {
      "cell_type": "code",
      "execution_count": null,
      "metadata": {
        "id": "vTRI3RLag0qJ",
        "outputId": "98b18c5e-9393-4546-ecf8-7c475d2ac5d9"
      },
      "outputs": [
        {
          "data": {
            "text/plain": [
              "numpy.ndarray"
            ]
          },
          "execution_count": 3,
          "metadata": {},
          "output_type": "execute_result"
        }
      ],
      "source": [
        "v = np.array(v) # vettore numpy\n",
        "type(v)"
      ]
    },
    {
      "cell_type": "markdown",
      "metadata": {
        "id": "I1o94ewJg0qK"
      },
      "source": [
        "### Selezione degli elementi di un vettore\n",
        "E' possibile accedere ad un elemento di un vettore nello stesso modo in cui si accede all'elemento di una lista, cioè utilizzando il suo indice.\n",
        "<br>\n",
        "<br>**NOTA BENE**<br>\n",
        "Nella programmazione gli indici partono sempre dal valore 0, quindi l'elemento alla posizione 0 corrisponde al primo elemento del vettore, quello alla posizione 1 al secondo..."
      ]
    },
    {
      "cell_type": "code",
      "execution_count": null,
      "metadata": {
        "id": "cyvuQ0SEg0qK",
        "outputId": "8dffc3cc-9812-4dd0-c6e3-ee9c8e031f07"
      },
      "outputs": [
        {
          "name": "stdout",
          "output_type": "stream",
          "text": [
            "Primo elemento del vettore: 10 \n",
            "Secondo elemento del vettore: 15 \n",
            "Ultimo elemento del vettore: 30 \n",
            "Penultimo elemento del vettore: 25 \n",
            "Primi 3 elementi del vettore: [10 15 20]\n",
            "Ultimi 2 elementi del vettore: [25 30]\n",
            "Dal secondo al quarto elemento del vettore: [15 20 25]\n"
          ]
        }
      ],
      "source": [
        "print(\"Primo elemento del vettore: %d \" % (v[0]))\n",
        "print(\"Secondo elemento del vettore: %d \" % (v[1]))\n",
        "\n",
        "\"\"\"utilizzando indici negativi è possibile\n",
        "accedere al vettore a ritroso\"\"\"\n",
        "\n",
        "print(\"Ultimo elemento del vettore: %d \" % (v[-1]))\n",
        "print(\"Penultimo elemento del vettore: %d \" % (v[-2]))\n",
        "\n",
        "\"\"\"L'operatore ':' ci permette di eseguire lo slicing del vettore\n",
        "\n",
        "\"\"\"\n",
        "\n",
        "print(\"Primi 3 elementi del vettore: %s\" % (v[:3])) #stampa gli elementi alla posizione 0,1 e 2\n",
        "print(\"Ultimi 2 elementi del vettore: %s\" % (v[-2:])) #stampa gli elementi alla posizione 3 e 4\n",
        "print(\"Dal secondo al quarto elemento del vettore: %s\" % (v[1:4]))"
      ]
    },
    {
      "cell_type": "markdown",
      "metadata": {
        "id": "KFuERs4pg0qM"
      },
      "source": [
        "E' anche possibile utilizzare delle **maschere** per selezionare solo i valori che soddisfano determinate condizioni.<br>\n",
        "Una maschera è semplicemente una lista di valori booleani, i valori dell'array che corrispondo ad un True nella maschera verranno selezionati, quelli che corrispondono ad un false verranno scartati."
      ]
    },
    {
      "cell_type": "code",
      "execution_count": null,
      "metadata": {
        "id": "K4nDXjpbg0qN",
        "outputId": "84076d98-9800-469c-c005-6285eac7899d"
      },
      "outputs": [
        {
          "name": "stdout",
          "output_type": "stream",
          "text": [
            "[False False False  True  True]\n",
            "Valori di v che sono maggiori di 20: [25 30]\n"
          ]
        }
      ],
      "source": [
        "mask = v>20 # creiamo una maschera per i valori di v che sono maggiori di 20\n",
        "print(mask) # una maschera non è altro che una lista di valori booleani\n",
        "print(\"Valori di v che sono maggiori di 20: %s\" % v[mask]) # applichiamo la maschera come fosse un indice"
      ]
    },
    {
      "cell_type": "markdown",
      "metadata": {
        "id": "2Zfi4Aq_g0qO"
      },
      "source": [
        "Solitamente questo passaggio viene eseguito all'interno di un'unica istruzione"
      ]
    },
    {
      "cell_type": "code",
      "execution_count": null,
      "metadata": {
        "id": "vUpWJxL7g0qP",
        "outputId": "a98e9e5f-d8e0-4d22-9898-22bbbffafad0"
      },
      "outputs": [
        {
          "data": {
            "text/plain": [
              "array([10, 15])"
            ]
          },
          "execution_count": 6,
          "metadata": {},
          "output_type": "execute_result"
        }
      ],
      "source": [
        "v_lm = v[v<v.mean()] # creiamo un nuovo vettore che contiene solo i valori di v che sono minori del valore medio\n",
        "v_lm"
      ]
    },
    {
      "cell_type": "markdown",
      "metadata": {
        "id": "ye_Cl8M1g0qQ"
      },
      "source": [
        "**RICORDA** La sola applicazione di una maschera non modifica il vettore se non viene eseguita un'assegnazione.<br><br>\n",
        "ESEMPIO<br>\n",
        "<span style=\"font-family: Monaco\">v[v>10]</span> => il valore di v non cambia<br>\n",
        "<span style=\"font-family: Monaco\">v = v[v>10]</span> => il valore di v cambia"
      ]
    },
    {
      "cell_type": "markdown",
      "metadata": {
        "id": "yHF6w2wng0qQ"
      },
      "source": [
        "### Modifica di un elemento di un vettore\n",
        "Per modificare uno o più elementi di un vettore basta eseguire una semplice assegnazione"
      ]
    },
    {
      "cell_type": "code",
      "execution_count": null,
      "metadata": {
        "id": "IDNhtj-wg0qR",
        "outputId": "990d195e-42ca-4e3c-9cb2-248b6e5f7dc9"
      },
      "outputs": [
        {
          "name": "stdout",
          "output_type": "stream",
          "text": [
            "[ 4  5  3 10  7]\n"
          ]
        }
      ],
      "source": [
        "v = np.array([1, 2 , 3 ,4, 5]) # definisco un nuovo vettore\n",
        "v[0] = 10 # sostituisco il valore 1 con 10 come primo elemento del vettore\n",
        "v[1] = v[2]+v[3] # assegno la somma degli elementi alla posizione 3 e 4 del vettore all'emento in posizione 2 \n",
        "\n",
        "\"\"\"\n",
        "Adesso scambio gli elementi alle prime 2 posizioni\n",
        "con quelli alle ultime due, per farlo creo un vettore temporaneo\n",
        "\"\"\"\n",
        "\n",
        "tmp = np.array([])\n",
        "tmp = v[:2].copy() # utilizzo copy per eseguire un'assegnazione per valore e non per riferimento\n",
        "v[:2] = v[-2:]\n",
        "v[-2:] = tmp\n",
        "\n",
        "print(v)"
      ]
    },
    {
      "cell_type": "markdown",
      "metadata": {
        "id": "aaOxFjIOg0qR"
      },
      "source": [
        "### Operazioni tra vettori"
      ]
    },
    {
      "cell_type": "code",
      "execution_count": null,
      "metadata": {
        "id": "YTZwB-Hug0qS",
        "outputId": "d6455f86-5873-4401-f817-d581727a60c2"
      },
      "outputs": [
        {
          "name": "stdout",
          "output_type": "stream",
          "text": [
            "a + b = [15 30 45 60 75]\n",
            "a - b = [ 5 10 15 20 25]\n",
            "a * b = [  50  200  450  800 1250]\n"
          ]
        }
      ],
      "source": [
        "a = np.array([10, 20, 30, 40, 50])\n",
        "b = np.array([5, 10, 15, 20, 25])\n",
        "\n",
        "print(\"a + b = %s\" % (a+b)) # somma tra i vettori a e b\n",
        "print(\"a - b = %s\" % (a-b)) # differenza tra i vettori a e b\n",
        "print(\"a * b = %s\" % (a*b)) # prodotto elemento per elemento dei vettori a e b"
      ]
    },
    {
      "cell_type": "markdown",
      "metadata": {
        "id": "BpJM1EpQg0qS"
      },
      "source": [
        "Perchè ho sottolineato che il prodotto è un prodotto \"elemento per elemento\" ? Perchè l'algebra lineare definisce anche un altro tipo di prodotto tra vettori, il prodotto scalare (in inglese: dot product), che da come risultato un singolo numero.\n",
        "Il prodotto scalare è definito come la somma del prodotto di ogni elemento del vettore a per il corrispondente elemento del vettore b.<br>\n",
        "<img src=\"https://github.com/ProfAI/ml00/blob/master/A%20-%20Approfondimenti/res/dot_vec_vec.jpg?raw=1\" width=\"750px\" />"
      ]
    },
    {
      "cell_type": "code",
      "execution_count": null,
      "metadata": {
        "id": "r7qmCka8g0qT",
        "outputId": "b0cdc9d5-40c0-42d4-a0ef-9c9209554b35"
      },
      "outputs": [
        {
          "data": {
            "text/plain": [
              "array([[27, 31],\n",
              "       [60, 58]])"
            ]
          },
          "execution_count": 9,
          "metadata": {},
          "output_type": "execute_result"
        }
      ],
      "source": [
        "np.dot(a,b) # prodotto scalare dei vettori a e b\n",
        "np.dot(np.array([[1,3,5],[4,6,8]]),np.array([[4,2],[6,3],[1,4]]))"
      ]
    },
    {
      "cell_type": "markdown",
      "metadata": {
        "id": "TjMK_jXcg0qU"
      },
      "source": [
        "### Operazioni su un singolo vettore"
      ]
    },
    {
      "cell_type": "code",
      "execution_count": null,
      "metadata": {
        "id": "4il-S7ejg0qV",
        "outputId": "54bcb792-dab4-47d9-85c9-c419ee63d3e6"
      },
      "outputs": [
        {
          "name": "stdout",
          "output_type": "stream",
          "text": [
            "[5 8 0 9 2]\n",
            "[5 8 0 2]\n",
            "[ 5  8 13  0  2]\n",
            "[13  8  0  5  2]\n"
          ]
        }
      ],
      "source": [
        "v = np.array([5, 8 , 0, 9, 2])\n",
        "print(v)\n",
        "v = np.delete(v,3) # rimuove l'elemento alla posizone 3\n",
        "print(v)\n",
        "v = np.insert(v, 2, 13) # inserisci il valore 13 alla posizione 2\n",
        "print(v)\n",
        "np.random.shuffle(v) #mescola gli elementi nel vettore\n",
        "print(v)"
      ]
    },
    {
      "cell_type": "markdown",
      "metadata": {
        "id": "IN00xsXUg0qV"
      },
      "source": [
        "#### Funzioni di base"
      ]
    },
    {
      "cell_type": "code",
      "execution_count": null,
      "metadata": {
        "id": "wrQFGKkMg0qW",
        "outputId": "01f9260d-00ad-4216-f808-fb5969da6fbb"
      },
      "outputs": [
        {
          "name": "stdout",
          "output_type": "stream",
          "text": [
            "Numero di elementi del vettore 5\n",
            "Elementi ordinati del vettore: [ 0  2  5  8 13]\n",
            "Somma di tutti gli elemento di v: 28\n"
          ]
        }
      ],
      "source": [
        "print(\"Numero di elementi del vettore %d\" % (len(v)))\n",
        "print(\"Elementi ordinati del vettore: %s\" % (np.sort(v)))\n",
        "print(\"Somma di tutti gli elemento di v: %d\" % (np.sum(v)))"
      ]
    },
    {
      "cell_type": "markdown",
      "metadata": {
        "id": "AxrA3x1qg0qW"
      },
      "source": [
        "#### Funzioni statistiche"
      ]
    },
    {
      "cell_type": "code",
      "execution_count": null,
      "metadata": {
        "id": "NjhWQcUMg0qW",
        "outputId": "cd3bb9b5-a05e-4430-b277-be37ded239e6"
      },
      "outputs": [
        {
          "name": "stdout",
          "output_type": "stream",
          "text": [
            "Il valore massimo del vettore è 13 e si trova alla posizione 0\n",
            "Il valore minimo del vettore è 0 e si trova alla posizione 2\n",
            "Valore medio del vettore: 5.6\n",
            "Mediana del vettore: 5\n",
            "Deviazione standard degli elementi del vettore: 4.59\n"
          ]
        }
      ],
      "source": [
        "print(\"Il valore massimo del vettore è %d e si trova alla posizione %d\" % (np.max(v), np.argmax(v)))\n",
        "print(\"Il valore minimo del vettore è %d e si trova alla posizione %d\" % (np.min(v), np.argmin(v)))\n",
        "print(\"Valore medio del vettore: %.1f\" % (np.mean(v))) # %.1f ci permette di stampare il valore con la virgola limitandolo a una sola cifra decimale\n",
        "print(\"Mediana del vettore: %d\" % (np.median(v)))\n",
        "print(\"Deviazione standard degli elementi del vettore: %.2f\" % (v.std()))"
      ]
    },
    {
      "cell_type": "markdown",
      "metadata": {
        "id": "VI0nEa2eg0qX"
      },
      "source": [
        "#### Altre funzioni"
      ]
    },
    {
      "cell_type": "code",
      "execution_count": null,
      "metadata": {
        "id": "TywZUKycg0qX",
        "outputId": "6c5dfc89-932a-498c-ddb1-6f3a078ae871"
      },
      "outputs": [
        {
          "name": "stdout",
          "output_type": "stream",
          "text": [
            "Logaritmo naturale di tutti gli elementi di v: [2.56494936 2.07944154       -inf 1.60943791 0.69314718]\n",
            "Esponente di tutti gli elementi di v: [4.42413392e+05 2.98095799e+03 1.00000000e+00 1.48413159e+02\n",
            " 7.38905610e+00]\n",
            "Funzione seno di tutti gli elementi di v: [ 0.42016704  0.98935825  0.         -0.95892427  0.90929743]\n"
          ]
        },
        {
          "name": "stderr",
          "output_type": "stream",
          "text": [
            "/Users/giuseppe/anaconda3/lib/python3.6/site-packages/ipykernel_launcher.py:1: RuntimeWarning: divide by zero encountered in log\n",
            "  \"\"\"Entry point for launching an IPython kernel.\n"
          ]
        }
      ],
      "source": [
        "print(\"Logaritmo naturale di tutti gli elementi di v: %s\" % (np.log(v)))\n",
        "print(\"Esponente di tutti gli elementi di v: %s\" % (np.exp(v)))\n",
        "print(\"Funzione seno di tutti gli elementi di v: %s\" % (np.sin(v)))"
      ]
    },
    {
      "cell_type": "markdown",
      "metadata": {
        "id": "N7cq_RSug0qY"
      },
      "source": [
        "# Matrici\n",
        "Una matrice è un insieme di numeri disposti su più righe o più colonne.\n",
        "<br><br>\n",
        "$$\n",
        "\\textbf{M} = \\begin{bmatrix}\n",
        "    3 & 5 & 9 \\\\\n",
        "    1 & 8 & 4 \\\\\n",
        "    2 & 6 & 7\n",
        "\\end{bmatrix}\n",
        "$$\n",
        "<br>\n",
        "M è una matrice di 3 righe e 3 colonne (matrice 3x3), l'accesso ad un valore valore è dato da due indici che rappresentano rispettivamente numero di riga e numero di colonna.<br><br> Nell'esempio M:  <span style=\"font-family: Monaco\">M[1,1] = 3, M[2,1] = 1, M[2,3] = 4, M[3,2] = 6</span><br><br>\n",
        "Numpy considera i vettori come matrici composti da una sola riga o da una sola colonna.\n",
        "<br><br>\n",
        "Per creare una matrice con Numpy possiamo semplicemente passare una lista bidimensionale alla funzione <span style=\"font-family: Monaco\">array</span>\n",
        "<br><br>\n",
        "**NOTA BENE:** In informatica (e soprattutto con Numpy) gli **array** rappresentano sia vettori che matrici, nello specifico per i vettori si parla di **array monodimensionali** mentre per le matrici si parla di array **bidimensionali**."
      ]
    },
    {
      "cell_type": "code",
      "execution_count": null,
      "metadata": {
        "id": "dizfRrX5g0qY",
        "outputId": "a102c216-da33-4d08-e7f8-9612636c8fc5"
      },
      "outputs": [
        {
          "data": {
            "text/plain": [
              "array([[1, 2, 3],\n",
              "       [3, 4, 6],\n",
              "       [7, 8, 9]])"
            ]
          },
          "execution_count": 14,
          "metadata": {},
          "output_type": "execute_result"
        }
      ],
      "source": [
        "m = np.array([[1,2,3],[3,4,6],[7,8,9]])\n",
        "m"
      ]
    },
    {
      "cell_type": "markdown",
      "metadata": {
        "id": "KRXeHkNDg0qZ"
      },
      "source": [
        "Tramite gli attributi <span style=\"font-family: Monaco\">size</span> e <span style=\"font-family: Monaco\">shape</span> possiamo accedere rispettivamente al numero totale di elementi della matrice e alla dimensione della matrice, intesa come numero di righe e numero di colonne."
      ]
    },
    {
      "cell_type": "code",
      "execution_count": null,
      "metadata": {
        "id": "owi86xNIg0qZ",
        "outputId": "b9932e02-dc0a-4c42-996d-059be6cb9f70"
      },
      "outputs": [
        {
          "name": "stdout",
          "output_type": "stream",
          "text": [
            "Numero totale di elementi nella matrice\n",
            "9\n",
            "Dimensione della matrice\n",
            "(3, 3)\n"
          ]
        }
      ],
      "source": [
        "print(\"Numero totale di elementi nella matrice\")\n",
        "print(m.size)\n",
        "print(\"Dimensione della matrice\")\n",
        "print(m.shape)"
      ]
    },
    {
      "cell_type": "markdown",
      "metadata": {
        "id": "kZUqMQvKg0qZ"
      },
      "source": [
        "Per selezionare e modificare uno o più elementi di una matrice possiamo procedere come con un vettore, ma aggiungendo un secondo indice.<br>\n",
        "In Numpy il primo indice corrisponde alla riga, il secondo alla colonna.<br><br>\n",
        "**RICORDA**: in Python e nella maggior parte dei linguaggi di programmazione gli indici di matrici e vettori partono da 0 e non da 1)"
      ]
    },
    {
      "cell_type": "code",
      "execution_count": null,
      "metadata": {
        "id": "60b22MVAg0qa",
        "outputId": "31c2d787-0da9-484e-c439-9ae68b3f46cc"
      },
      "outputs": [
        {
          "name": "stdout",
          "output_type": "stream",
          "text": [
            "Elemento alla prima colonna della prima riga: 1\n",
            "Elemento alla terza colonna colonna della seconda riga: 6\n",
            "Elemento all'ultima colonna dell'ultima riga: 9\n",
            "Prima riga della matrice: [1 2 3]\n",
            "Seconda colonna della matrice: [2 4 8] \n"
          ]
        }
      ],
      "source": [
        "print(\"Elemento alla prima colonna della prima riga: %d\" % (m[0,0]))\n",
        "print(\"Elemento alla terza colonna colonna della seconda riga: %d\" % (m[1,2]))\n",
        "print(\"Elemento all'ultima colonna dell'ultima riga: %d\" % (m[-1,-1])) #equivalente a m[2,2]\n",
        "\n",
        "\"\"\"\n",
        "Selezionando un'intera riga o colonna\n",
        "otterremo un vettore\n",
        "\"\"\"\n",
        "\n",
        "print(\"Prima riga della matrice: %s\" % m[0,:]) #l'operatore ':' indica di selezionare tutti gli elementi della prima riga\n",
        "print(\"Seconda colonna della matrice: %s \" % m[:,1])"
      ]
    },
    {
      "cell_type": "markdown",
      "metadata": {
        "id": "iSVStSScg0qa"
      },
      "source": [
        "## Ridimensionare una matrice\n",
        "Utilizando il parametro reshape possiamo cambiare la dimensione di una matrice"
      ]
    },
    {
      "cell_type": "code",
      "execution_count": null,
      "metadata": {
        "id": "5bW94iSvg0qc",
        "outputId": "a39316a5-e1f3-4633-a39f-b032aff25e79"
      },
      "outputs": [
        {
          "name": "stdout",
          "output_type": "stream",
          "text": [
            "Matrice 4x3\n",
            "[[ 1  2  3]\n",
            " [ 4  5  6]\n",
            " [ 7  8  9]\n",
            " [10 11 12]]\n",
            "\n",
            "Matrice ridimensionata in 3x4\n",
            "[[ 1  2  3  4]\n",
            " [ 5  6  7  8]\n",
            " [ 9 10 11 12]]\n"
          ]
        }
      ],
      "source": [
        "print(\"Matrice 4x3\")\n",
        "m = np.array([[1,2,3],[4,5,6],[7,8,9],[10,11,12]]) # Creare una matrice di dimensione 4x3\n",
        "print(m)\n",
        "\n",
        "m = m.reshape(3,4)\n",
        "\n",
        "print(\"\\nMatrice ridimensionata in 3x4\")\n",
        "print(m)"
      ]
    },
    {
      "cell_type": "markdown",
      "metadata": {
        "id": "sC5TyhUTg0qc"
      },
      "source": [
        "## Da matrice a vettore\n",
        "Sempre utilizzando reshape è possibile far diventere una matrice un vettore \"spacchettando\" gli elementi all'interno di un'unica riga (o colonna).<br>\n",
        "<img src=\"https://github.com/ProfAI/ml00/blob/master/A%20-%20Approfondimenti/res/mat_to_vec.jpg?raw=1\" width=\"600px\" />"
      ]
    },
    {
      "cell_type": "code",
      "execution_count": null,
      "metadata": {
        "id": "GJ0jhBmRg0qd",
        "outputId": "c96ba735-028c-44d5-800d-3b4c6b2c596f"
      },
      "outputs": [
        {
          "name": "stdout",
          "output_type": "stream",
          "text": [
            "Dimensione della matrice: (4, 3)\n"
          ]
        },
        {
          "data": {
            "text/plain": [
              "array([[ 1,  2,  3,  4,  5,  6,  7,  8,  9, 10, 11, 12]])"
            ]
          },
          "execution_count": 18,
          "metadata": {},
          "output_type": "execute_result"
        }
      ],
      "source": [
        "m = np.array([[1,2,3],[4,5,6],[7,8,9],[10,11,12]]) # Creare una matrice di dimensione 4x3\n",
        "print(\"Dimensione della matrice: \"+str(m.shape))\n",
        "m = m.reshape(1, m.size) # Srotolare tutti gli elementi all'interno di un unica riga\n",
        "m"
      ]
    },
    {
      "cell_type": "markdown",
      "metadata": {
        "id": "2pdxDOo1g0qd"
      },
      "source": [
        "In realtà abbiamo ottenuto una matrice di dimensione 1x12 e non un vettore, per ottenere il vettore dobbiamo estrarre la prima (e unica) riga."
      ]
    },
    {
      "cell_type": "code",
      "execution_count": null,
      "metadata": {
        "id": "iH_gx12Bg0qd",
        "outputId": "2e7ff33c-203e-43bc-a5b0-962e05669a4d"
      },
      "outputs": [
        {
          "name": "stdout",
          "output_type": "stream",
          "text": [
            "Dimensione della matrice: (1, 12)\n",
            "Dimensione della matrice trasformata in vettore: (12,)\n"
          ]
        },
        {
          "data": {
            "text/plain": [
              "array([ 1,  2,  3,  4,  5,  6,  7,  8,  9, 10, 11, 12])"
            ]
          },
          "execution_count": 19,
          "metadata": {},
          "output_type": "execute_result"
        }
      ],
      "source": [
        "print(\"Dimensione della matrice: \"+str(m.shape))\n",
        "m = m[0]\n",
        "print(\"Dimensione della matrice trasformata in vettore: \"+str(m.shape))\n",
        "m"
      ]
    },
    {
      "cell_type": "markdown",
      "metadata": {
        "id": "STLbnPAQg0qe"
      },
      "source": [
        "Avremmo ottenuto lo stesso risultato utilizzando il metodo  <span style=\"font-family: Monaco\">flatten</span>."
      ]
    },
    {
      "cell_type": "code",
      "execution_count": null,
      "metadata": {
        "id": "UEuMq3JZg0qe",
        "outputId": "f257f71c-1285-47bf-be42-6511e7e71fd2"
      },
      "outputs": [
        {
          "data": {
            "text/plain": [
              "array([ 1,  2,  3,  4,  5,  6,  7,  8,  9, 10, 11, 12])"
            ]
          },
          "execution_count": 20,
          "metadata": {},
          "output_type": "execute_result"
        }
      ],
      "source": [
        "m = np.array([[1,2,3],[4,5,6],[7,8,9],[10,11,12]]) # Creare una matrice di dimensione 4x3\n",
        "m = m.flatten()\n",
        "m"
      ]
    },
    {
      "cell_type": "markdown",
      "metadata": {
        "id": "jLrvPBkCg0qe"
      },
      "source": [
        "## Generazione di matrici e vettori\n",
        "Numpy mette a disposizione una serie di funzioni per generare matrici e vettori."
      ]
    },
    {
      "cell_type": "code",
      "execution_count": null,
      "metadata": {
        "id": "iKKIGB3-g0qe",
        "outputId": "c3b805b8-d776-4d6c-9e45-6da34782c3e5"
      },
      "outputs": [
        {
          "data": {
            "text/plain": [
              "array([[0., 0., 0.],\n",
              "       [0., 0., 0.],\n",
              "       [0., 0., 0.]])"
            ]
          },
          "execution_count": 21,
          "metadata": {},
          "output_type": "execute_result"
        }
      ],
      "source": [
        "#np.zeros([3]) # Generare un vettore di 3 elementi dal valore 0\n",
        "np.zeros([3,3]) # Generare una matrice 3x3 composta da valori 0"
      ]
    },
    {
      "cell_type": "code",
      "execution_count": null,
      "metadata": {
        "id": "GcKuUZgWg0qf",
        "outputId": "f11ba3cb-0ed4-4eb0-efe6-b98d012d8f5c"
      },
      "outputs": [
        {
          "data": {
            "text/plain": [
              "array([[1., 1., 1.],\n",
              "       [1., 1., 1.],\n",
              "       [1., 1., 1.]])"
            ]
          },
          "execution_count": 22,
          "metadata": {},
          "output_type": "execute_result"
        }
      ],
      "source": [
        "#np.ones([3]) # Generare un vettore di 3 elementi dal valore 1\n",
        "np.ones([3,3]) # Generare una matrice 3x3 composta da valori 1"
      ]
    },
    {
      "cell_type": "code",
      "execution_count": null,
      "metadata": {
        "id": "ytTaBiTng0qf",
        "outputId": "aa1f591f-04b4-43af-ce53-a2b199244f3e"
      },
      "outputs": [
        {
          "data": {
            "text/plain": [
              "array([[1., 0., 0.],\n",
              "       [0., 1., 0.],\n",
              "       [0., 0., 1.]])"
            ]
          },
          "execution_count": 23,
          "metadata": {},
          "output_type": "execute_result"
        }
      ],
      "source": [
        "np.eye(3, 3) # Crea una matrice 3x3 con la diagonale contenente il valore 1"
      ]
    },
    {
      "cell_type": "markdown",
      "metadata": {
        "id": "G5aOam1Qg0qf"
      },
      "source": [
        "### Generazione di vettori e matrici casuali"
      ]
    },
    {
      "cell_type": "code",
      "execution_count": null,
      "metadata": {
        "id": "4LWmHM7wg0qg",
        "outputId": "458392bd-1b62-4544-851e-f248cf6cee58"
      },
      "outputs": [
        {
          "data": {
            "text/plain": [
              "array([[0.73662902, 0.05764788, 0.0564087 ],\n",
              "       [0.76456562, 0.0365254 , 0.00504737],\n",
              "       [0.37768426, 0.77831061, 0.37472263]])"
            ]
          },
          "execution_count": 24,
          "metadata": {},
          "output_type": "execute_result"
        }
      ],
      "source": [
        "#np.random.rand(3) # Generare un vettore di 3 elementi casuali compresi tra 0 e 1\n",
        "np.random.rand(3,3) # Generare una matrice di valori casuali compresi tra 0 e 1"
      ]
    },
    {
      "cell_type": "code",
      "execution_count": null,
      "metadata": {
        "id": "HehKu-4Lg0qh",
        "outputId": "c8477974-af54-445b-effa-255ab4c21f97"
      },
      "outputs": [
        {
          "data": {
            "text/plain": [
              "array([[1, 1, 3],\n",
              "       [0, 2, 3],\n",
              "       [2, 0, 0]])"
            ]
          },
          "execution_count": 25,
          "metadata": {},
          "output_type": "execute_result"
        }
      ],
      "source": [
        "#np.random.randint(5,size=3) # Generare un vettore di 3 interi casuali tra 0 e 5\n",
        "np.random.randint(5,size=[3,3]) # Generare una matrice 3x3 di interi casuali tra 0 e 5"
      ]
    },
    {
      "cell_type": "code",
      "execution_count": null,
      "metadata": {
        "id": "OXMiigaBg0qh",
        "outputId": "c592f8f4-1df3-49c1-ef44-1460b55c703b"
      },
      "outputs": [
        {
          "data": {
            "text/plain": [
              "array([[-1.33901632,  0.56175178, -1.99705198],\n",
              "       [ 0.31439023, -1.34709931,  1.32368677],\n",
              "       [-0.24513657,  0.34071519, -1.62259224]])"
            ]
          },
          "execution_count": 26,
          "metadata": {},
          "output_type": "execute_result"
        }
      ],
      "source": [
        "#np.random.normal(0,1,(3,3)) # Genera un vettore di 3 elementi casuali con media 0 e deviazione standard 1\n",
        "np.random.normal(0,1,(3,3)) # Genera una matrice 3x3 di elementi casuali con media 0 e deviazione standard 1"
      ]
    },
    {
      "cell_type": "markdown",
      "metadata": {
        "id": "XH-t902qg0qh"
      },
      "source": [
        "Possiamo impostare il <span style=\"font-family: Monaco\">seed</span> manualmente, questo ci permetterà di ottenere gli stessi valori con diverse esecuzioni del codice."
      ]
    },
    {
      "cell_type": "code",
      "execution_count": null,
      "metadata": {
        "id": "NiPUkXUJg0qi",
        "outputId": "ab5c7987-193a-4b54-c217-4aac96eb1b9d"
      },
      "outputs": [
        {
          "data": {
            "text/plain": [
              "array([[4.17022005e-01, 7.20324493e-01, 1.14374817e-04],\n",
              "       [3.02332573e-01, 1.46755891e-01, 9.23385948e-02],\n",
              "       [1.86260211e-01, 3.45560727e-01, 3.96767474e-01]])"
            ]
          },
          "execution_count": 27,
          "metadata": {},
          "output_type": "execute_result"
        }
      ],
      "source": [
        "\"\"\"\n",
        "Eseguendo questo codice più volte\n",
        "otterrai sempre lo stesso array\n",
        "\"\"\"\n",
        "np.random.seed(1)\n",
        "np.random.rand(3,3)"
      ]
    },
    {
      "cell_type": "markdown",
      "metadata": {
        "id": "5bRPgQQ0g0qi"
      },
      "source": [
        "### Generazione di intervalli numerici\n",
        "Numpy mette a disposizione anche una serie di funzioni per creare intervalli numerici, sempre sotto forma di matrici"
      ]
    },
    {
      "cell_type": "code",
      "execution_count": null,
      "metadata": {
        "id": "oJtfO3R6g0qi",
        "outputId": "5ed61ef6-036e-4b09-8518-0dd92fd298f0"
      },
      "outputs": [
        {
          "data": {
            "text/plain": [
              "array([0, 1, 2, 3, 4, 5, 6, 7, 8, 9])"
            ]
          },
          "execution_count": 28,
          "metadata": {},
          "output_type": "execute_result"
        }
      ],
      "source": [
        "np.arange(10) # Genera un intervallo numerico da 0 a 10 (escluso)"
      ]
    },
    {
      "cell_type": "code",
      "execution_count": null,
      "metadata": {
        "id": "Q9Q487HHg0qo",
        "outputId": "59bb8056-64d9-46c2-b943-f55ace83f4d3"
      },
      "outputs": [
        {
          "data": {
            "text/plain": [
              "array([2, 3, 4, 5, 6, 7])"
            ]
          },
          "execution_count": 29,
          "metadata": {},
          "output_type": "execute_result"
        }
      ],
      "source": [
        "np.arange(2,8) # Genera un intervallo numerico da 2 a 8 (escluso)"
      ]
    },
    {
      "cell_type": "code",
      "execution_count": null,
      "metadata": {
        "id": "t8bDmy4rg0qp",
        "outputId": "01a64725-8b06-4a04-8165-b2ed2ddd3716"
      },
      "outputs": [
        {
          "name": "stdout",
          "output_type": "stream",
          "text": [
            "[ 0.          0.52631579  1.05263158  1.57894737  2.10526316  2.63157895\n",
            "  3.15789474  3.68421053  4.21052632  4.73684211  5.26315789  5.78947368\n",
            "  6.31578947  6.84210526  7.36842105  7.89473684  8.42105263  8.94736842\n",
            "  9.47368421 10.        ]\n",
            "[0.  0.5 1.  1.5 2.  2.5 3.  3.5 4.  4.5 5.  5.5 6.  6.5 7.  7.5 8.  8.5\n",
            " 9.  9.5]\n"
          ]
        }
      ],
      "source": [
        "\"\"\"\n",
        "Generiamo un intervallo numerico tra 0 e 10 (incluso)\n",
        "distribuiti uniformemente\n",
        "\"\"\"\n",
        "print(np.linspace(0,10,num=20))\n",
        "\n",
        "\"\"\"\n",
        "Per escludere il 10 possiamo\n",
        "utilizzare il parametro endpoint\n",
        "\"\"\"\n",
        "print(np.linspace(0,10,num=20, endpoint=False))"
      ]
    },
    {
      "cell_type": "markdown",
      "metadata": {
        "id": "HdpShTUog0qp"
      },
      "source": [
        "## Broadcasting\n",
        "Dato che Numpy non fa differenza tra matrici e vettori, le operazioni sulle matrici sono le stesse dei vettori.<br><br>\n",
        "Invece, la somma tra matrici e vettori aventi lo stesso numero di righe (o colonne) avviene sommando il vettore per ogni riga (o colonna) dell'array. Questa operazione si chiama broadcasting.\n",
        "<img src=\"https://github.com/ProfAI/ml00/blob/master/A%20-%20Approfondimenti/res/broadcasting.jpg?raw=1\" width=\"600px\"/>\n"
      ]
    },
    {
      "cell_type": "code",
      "execution_count": null,
      "metadata": {
        "id": "CJzhDMI2g0qp",
        "outputId": "21d2c657-bbf5-4a8e-94f0-1d5cdd622998"
      },
      "outputs": [
        {
          "data": {
            "text/plain": [
              "array([[10, 10,  4],\n",
              "       [11,  6,  3],\n",
              "       [13,  6, 10]])"
            ]
          },
          "execution_count": 31,
          "metadata": {},
          "output_type": "execute_result"
        }
      ],
      "source": [
        "v = np.array([7,3,2])\n",
        "m = np.array([[3,7,2],[4,3,1],[6,3,8]])\n",
        "v+m"
      ]
    },
    {
      "cell_type": "code",
      "execution_count": null,
      "metadata": {
        "id": "_0bwCRc2g0qp"
      },
      "outputs": [],
      "source": [
        "v = np.random.randint(10,size=[3,3])"
      ]
    },
    {
      "cell_type": "markdown",
      "metadata": {
        "id": "e8IxeWXSg0qq"
      },
      "source": [
        "## Prodotto scalare tra matrici\n",
        "Nel caso di matrici il prodotto scalare può essere eseguito solo se il numero di colonne della prima equivale al numero di righe della seconda, in questo caso si esegue sommando i prodotti di ogni elemento di ogni riga della prima per il corrispondente\n",
        "elemeno della corrispondente colonna della seconda (e' più semplice a farsi che a dirsi, osserva bene l'esempio qui sotto)<br>.\n",
        "<img src=\"https://github.com/ProfAI/ml00/blob/master/A%20-%20Approfondimenti/res/dot_mat_mat.jpg?raw=1\" width=\"750px\" />\n",
        "<br>\n",
        "**NOTA BENE** Il prodotto scalare tra due vettori non è altro che un caso particolare di questo, in cui il primo vettore viene considerato come un vettore-riga e il secondo come un vettore-colonna."
      ]
    },
    {
      "cell_type": "code",
      "execution_count": null,
      "metadata": {
        "id": "YMLbAPOGg0qq",
        "outputId": "17850321-1374-47ba-eb10-220ead4475b7"
      },
      "outputs": [
        {
          "data": {
            "text/plain": [
              "array([[27, 31],\n",
              "       [60, 58]])"
            ]
          },
          "execution_count": 33,
          "metadata": {},
          "output_type": "execute_result"
        }
      ],
      "source": [
        "m1 = np.array([[1,3,5],[4,6,8]])\n",
        "m2 = np.array([[4,2],[6,3],[1,4]])\n",
        "np.dot(m1,m2)"
      ]
    },
    {
      "cell_type": "markdown",
      "metadata": {
        "id": "TcOKbVH4g0qq"
      },
      "source": [
        "### Capire il parametro axis\n",
        "Alcune funzioni di Numpy agiscono sull'intera matrice, oppure sui singoli vettori-riga o vettori-colonna che compongono la matrice. Questo può essere controllato tramite il parametro <span style=\"font-family: Monaco\">axis</span>."
      ]
    },
    {
      "cell_type": "code",
      "execution_count": null,
      "metadata": {
        "id": "nubPeYkPg0qq",
        "outputId": "6beda1d1-d3a4-4aab-ae75-1f202140531a"
      },
      "outputs": [
        {
          "name": "stdout",
          "output_type": "stream",
          "text": [
            "Somma di tutti i valori della matrice: 45\n",
            "Somma dei valori di ogni colonna della matrice: [12 15 18]\n",
            "Somma dei valori di ogni riga della matrice: [ 6 15 24]\n"
          ]
        }
      ],
      "source": [
        "m = np.array([[1,2,3],[4,5,6],[7,8,9]])\n",
        "print(\"Somma di tutti i valori della matrice: %d\" % m.sum())\n",
        "print(\"Somma dei valori di ogni colonna della matrice: %s\" % m.sum(axis=0))\n",
        "print(\"Somma dei valori di ogni riga della matrice: %s\" % m.sum(axis=1))"
      ]
    },
    {
      "cell_type": "markdown",
      "metadata": {
        "id": "-VI5A_0vg0qr"
      },
      "source": [
        "# Vettorizzazione\n",
        "La vettorizzazione permette di eseguire operazioni su array Numpy senza utilizzare esplicitamente cicli for.<br>\n",
        "Esempi sono le varie operazioni aritmetiche tra gli array.\n",
        "<br>I cicli vengono gestiti internamente da Numpy in linguaggio C, garantendo performance notevolmente più evelate."
      ]
    },
    {
      "cell_type": "code",
      "execution_count": null,
      "metadata": {
        "id": "JUVyR4Qug0qs",
        "outputId": "df69ee86-7583-44a1-d0c4-3a0340c084b8"
      },
      "outputs": [
        {
          "name": "stdout",
          "output_type": "stream",
          "text": [
            "Esecuzione con ciclo for: 0.210984 secondi\n",
            "Esecuzione vettorizzata con Numpy: 0.000557 secondi\n",
            "L'esecuzione vettorizzata è 378 volte più veloce\n"
          ]
        }
      ],
      "source": [
        "import numpy as np\n",
        "from timeit import Timer\n",
        "\n",
        "m = np.arange(100000)\n",
        "\n",
        "def loop_sum():\n",
        "    return [val + 1 for val in m]\n",
        "\n",
        "def numpy_sum():\n",
        "    return m+1\n",
        "\n",
        "exctime_loop = min(Timer(loop_sum).repeat(10,10))\n",
        "exctime_num = min(Timer(numpy_sum).repeat(10,10))\n",
        "\n",
        "0.22/0.0005\n",
        "\n",
        "print(\"Esecuzione con ciclo for: %f secondi\" % exctime_loop)\n",
        "print(\"Esecuzione vettorizzata con Numpy: %f secondi\" % exctime_num)\n",
        "\n",
        "print(\"L'esecuzione vettorizzata è %d volte più veloce\" % int(exctime_loop/exctime_num))"
      ]
    },
    {
      "cell_type": "markdown",
      "metadata": {
        "id": "XplOogd8g0qs"
      },
      "source": [
        "Capire e padroneggiare la vettorizzazione è fondamentale per sfruttare al massimo le potenzialità di Numpy."
      ]
    }
  ],
  "metadata": {
    "kernelspec": {
      "display_name": "Python 3",
      "language": "python",
      "name": "python3"
    },
    "language_info": {
      "codemirror_mode": {
        "name": "ipython",
        "version": 3
      },
      "file_extension": ".py",
      "mimetype": "text/x-python",
      "name": "python",
      "nbconvert_exporter": "python",
      "pygments_lexer": "ipython3",
      "version": "3.6.4"
    },
    "colab": {
      "provenance": [],
      "include_colab_link": true
    }
  },
  "nbformat": 4,
  "nbformat_minor": 0
}